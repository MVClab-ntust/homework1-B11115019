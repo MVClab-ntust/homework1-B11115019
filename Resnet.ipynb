{
  "cells": [
    {
      "cell_type": "code",
      "execution_count": 1,
      "metadata": {
        "id": "hsn4s-uGCmAw"
      },
      "outputs": [],
      "source": [
        "import torch\n",
        "import torchvision\n",
        "import torchvision.transforms as transforms\n",
        "import torch.nn as nn\n",
        "import torch.optim as optim\n",
        "\n",
        "# 資料預處理\n",
        "transform = transforms.Compose(\n",
        "    [transforms.ToTensor(),\n",
        "     transforms.Normalize((0.5071, 0.4867, 0.4408), (0.2675, 0.2565, 0.2761))])"
      ]
    },
    {
      "cell_type": "code",
      "execution_count": 2,
      "metadata": {
        "colab": {
          "base_uri": "https://localhost:8080/"
        },
        "id": "QBBQg_hzIibj",
        "outputId": "6fd47cde-3391-4c50-cb0e-b3edc92f60e9"
      },
      "outputs": [
        {
          "name": "stdout",
          "output_type": "stream",
          "text": [
            "Files already downloaded and verified\n",
            "Files already downloaded and verified\n"
          ]
        }
      ],
      "source": [
        "# 分割training和valid的資料\n",
        "train_dataset, valid_dataset = torch.utils.data.random_split(\n",
        "    torchvision.datasets.CIFAR100(root=\"./data\", train=True, download=True, transform=transform)\n",
        "    , lengths=[40000, 10000])\n",
        "\n",
        "#拿取load的資料\n",
        "trainloader = torch.utils.data.DataLoader(train_dataset, batch_size=64, shuffle=True, num_workers=2)\n",
        "vaildloader = torch.utils.data.DataLoader(valid_dataset, batch_size=64, shuffle=True, num_workers=2)\n",
        "test_dataset = torchvision.datasets.CIFAR100(root=\"./data\", train=False, download=True, transform=transform)\n",
        "testloader = torch.utils.data.DataLoader(test_dataset, batch_size=64, shuffle=True, num_workers=2)\n",
        "\n",
        "classes = ['apple', 'aquarium_fish', 'baby', 'bear', 'beaver', 'bed', 'bee', 'beetle', 'bicycle', 'bottle', 'bowl', 'boy', 'bridge', 'bus', 'butterfly', 'camel', 'can', 'castle', 'caterpillar', 'cattle', 'chair', 'chimpanzee', 'clock', 'cloud', 'cockroach', 'couch', 'crab', 'crocodile', 'cup', 'dinosaur', 'dolphin', 'elephant', 'flatfish', 'forest', 'fox', 'girl', 'hamster', 'house', 'kangaroo', 'keyboard', 'lamp', 'lawn_mower', 'leopard', 'lion', 'lizard', 'lobster', 'man', 'maple_tree', 'motorcycle', 'mountain', 'mouse', 'mushroom', 'oak_tree', 'orange', 'orchid', 'otter', 'palm_tree', 'pear', 'pickup_truck', 'pine_tree', 'plain', 'plate', 'poppy', 'porcupine', 'possum', 'rabbit', 'raccoon', 'ray', 'road', 'rocket', 'rose', 'sea', 'seal', 'shark', 'shrew', 'skunk', 'skyscraper', 'snail', 'snake', 'spider', 'squirrel', 'streetcar', 'sunflower', 'sweet_pepper', 'table', 'tank', 'telephone', 'television', 'tiger', 'tractor', 'train', 'trout', 'tulip', 'turtle', 'wardrobe', 'whale', 'willow_tree', 'wolf', 'woman', 'worm']"
      ]
    },
    {
      "cell_type": "code",
      "execution_count": 3,
      "metadata": {
        "id": "8AGWmPiwOA75"
      },
      "outputs": [],
      "source": [
        "# 建構block\n",
        "class ResidualBlock(nn.Module):\n",
        "  def __init__(self, in_channel, out_channel, strides=1):\n",
        "    super(ResidualBlock, self).__init__()\n",
        "    self.conv1 = nn.Conv2d(in_channel, out_channel, kernel_size=3, stride=strides, padding=1)\n",
        "    self.bn1 = nn.BatchNorm2d(out_channel)\n",
        "    self.relu = nn.ReLU(inplace=True)\n",
        "    self.conv2 = nn.Conv2d(out_channel, out_channel, kernel_size=3, stride=1, padding=1)\n",
        "    self.bn2 = nn.BatchNorm2d(out_channel)\n",
        "\n",
        "    self.downsample = None\n",
        "    if strides != 1 or in_channel != out_channel:\n",
        "        self.downsample = nn.Sequential(\n",
        "        nn.Conv2d(in_channel, out_channel, kernel_size=1, stride=strides),\n",
        "        nn.BatchNorm2d(out_channel)\n",
        "    )\n",
        "\n",
        "  def forward(self, x):\n",
        "    identity = x\n",
        "\n",
        "    out = self.conv1(x)\n",
        "    out = self.bn1(out)\n",
        "    out = self.relu(out)\n",
        "    out = self.conv2(out)\n",
        "    out = self.bn2(out)\n",
        "\n",
        "    if self.downsample is not None:\n",
        "      identity = self.downsample(x)\n",
        "\n",
        "    out += identity\n",
        "    out = self.relu(out)\n",
        "\n",
        "    return out\n",
        "\n",
        "#建構Resnet\n",
        "class ResNet18(nn.Module):\n",
        "  def __init__(self, ResidualBlock, num_class=100):\n",
        "    super(ResNet18, self).__init__()\n",
        "\n",
        "    # 第一層\n",
        "    self.channel = 64\n",
        "    self.conv1 = nn.Sequential(nn.Conv2d(3, 64, kernel_size=7, stride=2, padding=3),\n",
        "                               nn.BatchNorm2d(64),\n",
        "                               nn.ReLU(),\n",
        "                               nn.MaxPool2d(kernel_size=3, stride=2))\n",
        "    # 第2~5層\n",
        "    self.layer1 = self.make_layer(ResidualBlock, 64, 2, 1)\n",
        "    self.layer2 = self.make_layer(ResidualBlock, 128, 2, 2)\n",
        "    self.layer3 = self.make_layer(ResidualBlock, 256, 2, 2)\n",
        "    self.layer4 = self.make_layer(ResidualBlock, 512, 2, 2)\n",
        "    self.avgpool = nn.AdaptiveAvgPool2d((1,1)) #平均池化層\n",
        "    self.fcl = nn.Linear(512, num_class) #全連通層\n",
        "\n",
        "  # 建立每一層\n",
        "  def make_layer(self, block, outchannel, num_block, stride):\n",
        "    strides = [stride] + [1] * (num_block - 1) #只有第一層stride會不一定是，剩下都是1\n",
        "    layer = []\n",
        "\n",
        "    for i in strides:\n",
        "      layer.append(block(self.channel, outchannel, i))\n",
        "      self.channel = outchannel\n",
        "\n",
        "    return nn.Sequential(*layer)\n",
        "\n",
        "  def forward(self, x):\n",
        "    out = self.conv1(x)\n",
        "    out = self.layer1(out)\n",
        "    out = self.layer2(out)\n",
        "    out = self.layer3(out)\n",
        "    out = self.layer4(out)\n",
        "    out = self.avgpool(out)\n",
        "\n",
        "    out = torch.flatten(out, 1)\n",
        "    out = self.fcl(out)   \n",
        "\n",
        "    return out"
      ]
    },
    {
      "cell_type": "code",
      "execution_count": 4,
      "metadata": {
        "colab": {
          "base_uri": "https://localhost:8080/"
        },
        "id": "WREsYVmiKAsG",
        "outputId": "58ea08af-a48f-4323-cfe5-d307f06b1828"
      },
      "outputs": [
        {
          "data": {
            "text/plain": [
              "ResNet18(\n",
              "  (conv1): Sequential(\n",
              "    (0): Conv2d(3, 64, kernel_size=(7, 7), stride=(2, 2), padding=(3, 3))\n",
              "    (1): BatchNorm2d(64, eps=1e-05, momentum=0.1, affine=True, track_running_stats=True)\n",
              "    (2): ReLU()\n",
              "    (3): MaxPool2d(kernel_size=3, stride=2, padding=0, dilation=1, ceil_mode=False)\n",
              "  )\n",
              "  (layer1): Sequential(\n",
              "    (0): ResidualBlock(\n",
              "      (conv1): Conv2d(64, 64, kernel_size=(3, 3), stride=(1, 1), padding=(1, 1))\n",
              "      (bn1): BatchNorm2d(64, eps=1e-05, momentum=0.1, affine=True, track_running_stats=True)\n",
              "      (relu): ReLU(inplace=True)\n",
              "      (conv2): Conv2d(64, 64, kernel_size=(3, 3), stride=(1, 1), padding=(1, 1))\n",
              "      (bn2): BatchNorm2d(64, eps=1e-05, momentum=0.1, affine=True, track_running_stats=True)\n",
              "    )\n",
              "    (1): ResidualBlock(\n",
              "      (conv1): Conv2d(64, 64, kernel_size=(3, 3), stride=(1, 1), padding=(1, 1))\n",
              "      (bn1): BatchNorm2d(64, eps=1e-05, momentum=0.1, affine=True, track_running_stats=True)\n",
              "      (relu): ReLU(inplace=True)\n",
              "      (conv2): Conv2d(64, 64, kernel_size=(3, 3), stride=(1, 1), padding=(1, 1))\n",
              "      (bn2): BatchNorm2d(64, eps=1e-05, momentum=0.1, affine=True, track_running_stats=True)\n",
              "    )\n",
              "  )\n",
              "  (layer2): Sequential(\n",
              "    (0): ResidualBlock(\n",
              "      (conv1): Conv2d(64, 128, kernel_size=(3, 3), stride=(2, 2), padding=(1, 1))\n",
              "      (bn1): BatchNorm2d(128, eps=1e-05, momentum=0.1, affine=True, track_running_stats=True)\n",
              "      (relu): ReLU(inplace=True)\n",
              "      (conv2): Conv2d(128, 128, kernel_size=(3, 3), stride=(1, 1), padding=(1, 1))\n",
              "      (bn2): BatchNorm2d(128, eps=1e-05, momentum=0.1, affine=True, track_running_stats=True)\n",
              "      (downsample): Sequential(\n",
              "        (0): Conv2d(64, 128, kernel_size=(1, 1), stride=(2, 2))\n",
              "        (1): BatchNorm2d(128, eps=1e-05, momentum=0.1, affine=True, track_running_stats=True)\n",
              "      )\n",
              "    )\n",
              "    (1): ResidualBlock(\n",
              "      (conv1): Conv2d(128, 128, kernel_size=(3, 3), stride=(1, 1), padding=(1, 1))\n",
              "      (bn1): BatchNorm2d(128, eps=1e-05, momentum=0.1, affine=True, track_running_stats=True)\n",
              "      (relu): ReLU(inplace=True)\n",
              "      (conv2): Conv2d(128, 128, kernel_size=(3, 3), stride=(1, 1), padding=(1, 1))\n",
              "      (bn2): BatchNorm2d(128, eps=1e-05, momentum=0.1, affine=True, track_running_stats=True)\n",
              "    )\n",
              "  )\n",
              "  (layer3): Sequential(\n",
              "    (0): ResidualBlock(\n",
              "      (conv1): Conv2d(128, 256, kernel_size=(3, 3), stride=(2, 2), padding=(1, 1))\n",
              "      (bn1): BatchNorm2d(256, eps=1e-05, momentum=0.1, affine=True, track_running_stats=True)\n",
              "      (relu): ReLU(inplace=True)\n",
              "      (conv2): Conv2d(256, 256, kernel_size=(3, 3), stride=(1, 1), padding=(1, 1))\n",
              "      (bn2): BatchNorm2d(256, eps=1e-05, momentum=0.1, affine=True, track_running_stats=True)\n",
              "      (downsample): Sequential(\n",
              "        (0): Conv2d(128, 256, kernel_size=(1, 1), stride=(2, 2))\n",
              "        (1): BatchNorm2d(256, eps=1e-05, momentum=0.1, affine=True, track_running_stats=True)\n",
              "      )\n",
              "    )\n",
              "    (1): ResidualBlock(\n",
              "      (conv1): Conv2d(256, 256, kernel_size=(3, 3), stride=(1, 1), padding=(1, 1))\n",
              "      (bn1): BatchNorm2d(256, eps=1e-05, momentum=0.1, affine=True, track_running_stats=True)\n",
              "      (relu): ReLU(inplace=True)\n",
              "      (conv2): Conv2d(256, 256, kernel_size=(3, 3), stride=(1, 1), padding=(1, 1))\n",
              "      (bn2): BatchNorm2d(256, eps=1e-05, momentum=0.1, affine=True, track_running_stats=True)\n",
              "    )\n",
              "  )\n",
              "  (layer4): Sequential(\n",
              "    (0): ResidualBlock(\n",
              "      (conv1): Conv2d(256, 512, kernel_size=(3, 3), stride=(2, 2), padding=(1, 1))\n",
              "      (bn1): BatchNorm2d(512, eps=1e-05, momentum=0.1, affine=True, track_running_stats=True)\n",
              "      (relu): ReLU(inplace=True)\n",
              "      (conv2): Conv2d(512, 512, kernel_size=(3, 3), stride=(1, 1), padding=(1, 1))\n",
              "      (bn2): BatchNorm2d(512, eps=1e-05, momentum=0.1, affine=True, track_running_stats=True)\n",
              "      (downsample): Sequential(\n",
              "        (0): Conv2d(256, 512, kernel_size=(1, 1), stride=(2, 2))\n",
              "        (1): BatchNorm2d(512, eps=1e-05, momentum=0.1, affine=True, track_running_stats=True)\n",
              "      )\n",
              "    )\n",
              "    (1): ResidualBlock(\n",
              "      (conv1): Conv2d(512, 512, kernel_size=(3, 3), stride=(1, 1), padding=(1, 1))\n",
              "      (bn1): BatchNorm2d(512, eps=1e-05, momentum=0.1, affine=True, track_running_stats=True)\n",
              "      (relu): ReLU(inplace=True)\n",
              "      (conv2): Conv2d(512, 512, kernel_size=(3, 3), stride=(1, 1), padding=(1, 1))\n",
              "      (bn2): BatchNorm2d(512, eps=1e-05, momentum=0.1, affine=True, track_running_stats=True)\n",
              "    )\n",
              "  )\n",
              "  (avgpool): AdaptiveAvgPool2d(output_size=(1, 1))\n",
              "  (fcl): Linear(in_features=512, out_features=100, bias=True)\n",
              ")"
            ]
          },
          "execution_count": 4,
          "metadata": {},
          "output_type": "execute_result"
        }
      ],
      "source": [
        "# 建立model\n",
        "model = ResNet18(ResidualBlock)\n",
        "device = torch.device(\"cuda:0\" if torch.cuda.is_available() else \"cpu\")\n",
        "model.to(device)"
      ]
    },
    {
      "cell_type": "code",
      "execution_count": 17,
      "metadata": {
        "colab": {
          "base_uri": "https://localhost:8080/",
          "height": 408
        },
        "id": "0Lvehig4bLcG",
        "outputId": "f16a60a5-bec8-4c6c-d5da-b27305c389b3"
      },
      "outputs": [
        {
          "data": {
            "application/vnd.jupyter.widget-view+json": {
              "model_id": "767db01982684786a36552ed958fd890",
              "version_major": 2,
              "version_minor": 0
            },
            "text/plain": [
              "Training:   0%|          | 0/625 [00:00<?, ?it/s]"
            ]
          },
          "metadata": {},
          "output_type": "display_data"
        },
        {
          "data": {
            "application/vnd.jupyter.widget-view+json": {
              "model_id": "224275aa3f974515ad659cedfef149ee",
              "version_major": 2,
              "version_minor": 0
            },
            "text/plain": [
              "Training:   0%|          | 0/625 [00:00<?, ?it/s]"
            ]
          },
          "metadata": {},
          "output_type": "display_data"
        },
        {
          "data": {
            "application/vnd.jupyter.widget-view+json": {
              "model_id": "83b240680b614ed3928334be99bc2bad",
              "version_major": 2,
              "version_minor": 0
            },
            "text/plain": [
              "Training:   0%|          | 0/625 [00:00<?, ?it/s]"
            ]
          },
          "metadata": {},
          "output_type": "display_data"
        },
        {
          "data": {
            "application/vnd.jupyter.widget-view+json": {
              "model_id": "9fca2eb9e05f4931a97fc19c03f716b0",
              "version_major": 2,
              "version_minor": 0
            },
            "text/plain": [
              "Training:   0%|          | 0/625 [01:20<?, ?it/s]"
            ]
          },
          "metadata": {},
          "output_type": "display_data"
        },
        {
          "data": {
            "application/vnd.jupyter.widget-view+json": {
              "model_id": "8c71e7bd56db44a88ca8eb20e7b6bd67",
              "version_major": 2,
              "version_minor": 0
            },
            "text/plain": [
              "Training:   0%|          | 0/625 [00:00<?, ?it/s]"
            ]
          },
          "metadata": {},
          "output_type": "display_data"
        },
        {
          "data": {
            "application/vnd.jupyter.widget-view+json": {
              "model_id": "cef3a274efa0480888a01f0937113178",
              "version_major": 2,
              "version_minor": 0
            },
            "text/plain": [
              "Training:   0%|          | 0/625 [00:00<?, ?it/s]"
            ]
          },
          "metadata": {},
          "output_type": "display_data"
        },
        {
          "data": {
            "application/vnd.jupyter.widget-view+json": {
              "model_id": "f4536068a1414f93b8754bc35afe88a7",
              "version_major": 2,
              "version_minor": 0
            },
            "text/plain": [
              "Training:   0%|          | 0/625 [00:00<?, ?it/s]"
            ]
          },
          "metadata": {},
          "output_type": "display_data"
        },
        {
          "data": {
            "application/vnd.jupyter.widget-view+json": {
              "model_id": "803ae65a882843869caed2de78537c6a",
              "version_major": 2,
              "version_minor": 0
            },
            "text/plain": [
              "Training:   0%|          | 0/625 [00:00<?, ?it/s]"
            ]
          },
          "metadata": {},
          "output_type": "display_data"
        },
        {
          "data": {
            "application/vnd.jupyter.widget-view+json": {
              "model_id": "792c2222a6a342c484988cdddbf89da7",
              "version_major": 2,
              "version_minor": 0
            },
            "text/plain": [
              "Training:   0%|          | 0/625 [00:00<?, ?it/s]"
            ]
          },
          "metadata": {},
          "output_type": "display_data"
        },
        {
          "data": {
            "application/vnd.jupyter.widget-view+json": {
              "model_id": "1a799defab494c78a09c41be90adcb6f",
              "version_major": 2,
              "version_minor": 0
            },
            "text/plain": [
              "Training:   0%|          | 0/625 [00:00<?, ?it/s]"
            ]
          },
          "metadata": {},
          "output_type": "display_data"
        },
        {
          "name": "stdout",
          "output_type": "stream",
          "text": [
            "Finished training\n"
          ]
        }
      ],
      "source": [
        "# 損失函數、優化器\n",
        "criterion = nn.CrossEntropyLoss()\n",
        "optimizer = optim.Adam(model.parameters(), lr=0.00003)\n",
        "\n",
        "from tqdm.notebook import tqdm\n",
        "\n",
        "# 開始訓練\n",
        "for epoch in range(10):\n",
        "  model.train()\n",
        "  running_loss = 0.0\n",
        "  progress_bar = tqdm(enumerate(trainloader, 0), total=len(trainloader), desc=\"Training\")\n",
        "\n",
        "  for inputs, labels in trainloader:\n",
        "    inputs, labels = inputs.to(device), labels.to(device)\n",
        "    \n",
        "    optimizer.zero_grad()\n",
        "    outputs = model(inputs)\n",
        "    loss = criterion(outputs, labels)\n",
        "    loss.backward()\n",
        "    optimizer.step()\n",
        "\n",
        "    running_loss += loss.item()\n",
        "    progress_bar.update(1)\n",
        "    progress_bar.set_description(f\"Epoch{epoch + 1}, Loss: {running_loss / len(trainloader):.4f}\")\n",
        "\n",
        "#vaild data\n",
        "model.eval()\n",
        "with torch.no_grad():\n",
        "  correct = 0\n",
        "  total = 0\n",
        "  for inputs, labels in vaildloader:\n",
        "    inputs, labels = inputs.to(device), labels.to(device)\n",
        "    outputs = model(inputs)\n",
        "    _, predicted = torch.max(outputs, 1)\n",
        "    total += labels.size(0)\n",
        "    correct = (predicted == labels).sum().item()\n",
        "print(\"Finished training\")"
      ]
    },
    {
      "cell_type": "code",
      "execution_count": 18,
      "metadata": {
        "id": "xa9-4N0yn8Ht"
      },
      "outputs": [
        {
          "name": "stdout",
          "output_type": "stream",
          "text": [
            "Accuracy of the network on CIFAR100: 46.05%\n",
            "\n",
            "-------------------------------------------\n",
            "Accuracy of apple : 74.0%\n",
            "Accuracy of aquarium_fish : 57.0%\n",
            "Accuracy of baby : 28.0%\n",
            "Accuracy of bear : 26.0%\n",
            "Accuracy of beaver : 25.0%\n",
            "Accuracy of bed : 45.0%\n",
            "Accuracy of bee : 56.0%\n",
            "Accuracy of beetle : 51.0%\n",
            "Accuracy of bicycle : 55.0%\n",
            "Accuracy of bottle : 58.0%\n",
            "Accuracy of bowl : 30.0%\n",
            "Accuracy of boy : 30.0%\n",
            "Accuracy of bridge : 48.0%\n",
            "Accuracy of bus : 35.0%\n",
            "Accuracy of butterfly : 39.0%\n",
            "Accuracy of camel : 37.0%\n",
            "Accuracy of can : 51.0%\n",
            "Accuracy of castle : 64.0%\n",
            "Accuracy of caterpillar : 45.0%\n",
            "Accuracy of cattle : 35.0%\n",
            "Accuracy of chair : 70.0%\n",
            "Accuracy of chimpanzee : 61.0%\n",
            "Accuracy of clock : 35.0%\n",
            "Accuracy of cloud : 65.0%\n",
            "Accuracy of cockroach : 70.0%\n",
            "Accuracy of couch : 35.0%\n",
            "Accuracy of crab : 45.0%\n",
            "Accuracy of crocodile : 30.0%\n",
            "Accuracy of cup : 58.0%\n",
            "Accuracy of dinosaur : 46.0%\n",
            "Accuracy of dolphin : 45.0%\n",
            "Accuracy of elephant : 36.0%\n",
            "Accuracy of flatfish : 38.0%\n",
            "Accuracy of forest : 48.0%\n",
            "Accuracy of fox : 43.0%\n",
            "Accuracy of girl : 22.0%\n",
            "Accuracy of hamster : 47.0%\n",
            "Accuracy of house : 44.0%\n",
            "Accuracy of kangaroo : 31.0%\n",
            "Accuracy of keyboard : 53.0%\n",
            "Accuracy of lamp : 41.0%\n",
            "Accuracy of lawn_mower : 64.0%\n",
            "Accuracy of leopard : 35.0%\n",
            "Accuracy of lion : 47.0%\n",
            "Accuracy of lizard : 22.0%\n",
            "Accuracy of lobster : 23.0%\n",
            "Accuracy of man : 33.0%\n",
            "Accuracy of maple_tree : 55.0%\n",
            "Accuracy of motorcycle : 75.0%\n",
            "Accuracy of mountain : 56.0%\n",
            "Accuracy of mouse : 24.0%\n",
            "Accuracy of mushroom : 41.0%\n",
            "Accuracy of oak_tree : 63.0%\n",
            "Accuracy of orange : 76.0%\n",
            "Accuracy of orchid : 62.0%\n",
            "Accuracy of otter : 18.0%\n",
            "Accuracy of palm_tree : 68.0%\n",
            "Accuracy of pear : 50.0%\n",
            "Accuracy of pickup_truck : 53.0%\n",
            "Accuracy of pine_tree : 36.0%\n",
            "Accuracy of plain : 78.0%\n",
            "Accuracy of plate : 61.0%\n",
            "Accuracy of poppy : 55.0%\n",
            "Accuracy of porcupine : 43.0%\n",
            "Accuracy of possum : 16.0%\n",
            "Accuracy of rabbit : 26.0%\n",
            "Accuracy of raccoon : 46.0%\n",
            "Accuracy of ray : 38.0%\n",
            "Accuracy of road : 78.0%\n",
            "Accuracy of rocket : 69.0%\n",
            "Accuracy of rose : 45.0%\n",
            "Accuracy of sea : 70.0%\n",
            "Accuracy of seal : 16.0%\n",
            "Accuracy of shark : 32.0%\n",
            "Accuracy of shrew : 24.0%\n",
            "Accuracy of skunk : 71.0%\n",
            "Accuracy of skyscraper : 71.0%\n",
            "Accuracy of snail : 25.0%\n",
            "Accuracy of snake : 29.0%\n",
            "Accuracy of spider : 43.0%\n",
            "Accuracy of squirrel : 26.0%\n",
            "Accuracy of streetcar : 45.0%\n",
            "Accuracy of sunflower : 77.0%\n",
            "Accuracy of sweet_pepper : 38.0%\n",
            "Accuracy of table : 35.0%\n",
            "Accuracy of tank : 54.0%\n",
            "Accuracy of telephone : 47.0%\n",
            "Accuracy of television : 51.0%\n",
            "Accuracy of tiger : 41.0%\n",
            "Accuracy of tractor : 51.0%\n",
            "Accuracy of train : 47.0%\n",
            "Accuracy of trout : 55.0%\n",
            "Accuracy of tulip : 38.0%\n",
            "Accuracy of turtle : 28.0%\n",
            "Accuracy of wardrobe : 81.0%\n",
            "Accuracy of whale : 54.0%\n",
            "Accuracy of willow_tree : 38.0%\n",
            "Accuracy of wolf : 43.0%\n",
            "Accuracy of woman : 23.0%\n",
            "Accuracy of worm : 44.0%\n"
          ]
        }
      ],
      "source": [
        "# 把訓練好的模型，用test data看看結果精不精確\n",
        "correct = 0\n",
        "total = 0\n",
        "with torch.no_grad():\n",
        "  for data in testloader:\n",
        "    inputs, labels = data[0].to(device), data[1].to(device)\n",
        "    outputs = model(inputs)\n",
        "    _, predicted = torch.max(outputs, 1)\n",
        "    correct += (predicted == labels).sum().item()\n",
        "    total += labels.size(0)\n",
        "\n",
        "print(f\"Accuracy of the network on CIFAR100: {100 * correct / total}%\")\n",
        "print()\n",
        "\n",
        "class_correct = list(0. for i in range(100))\n",
        "class_total = list(0. for i in range(100))\n",
        "\n",
        "with torch.no_grad():\n",
        "  for data in testloader:\n",
        "    inputs, labels = data[0].to(device), data[1].to(device)\n",
        "    outputs = model(inputs)\n",
        "    _, predicted = torch.max(outputs, 1)\n",
        "    correct = (predicted == labels).squeeze()\n",
        "    \n",
        "    for i in range(len(labels)):\n",
        "      label = labels[i]\n",
        "      class_correct[label] += correct[i].item()\n",
        "      class_total[label] += 1\n",
        "\n",
        "print(\"-------------------------------------------\")\n",
        "for i in range(100):\n",
        "  print(f\"Accuracy of {classes[i]} : {100 * class_correct[i]/class_total[i]}%\")\n"
      ]
    }
  ],
  "metadata": {
    "colab": {
      "provenance": []
    },
    "kernelspec": {
      "display_name": "Python 3",
      "name": "python3"
    },
    "language_info": {
      "codemirror_mode": {
        "name": "ipython",
        "version": 3
      },
      "file_extension": ".py",
      "mimetype": "text/x-python",
      "name": "python",
      "nbconvert_exporter": "python",
      "pygments_lexer": "ipython3",
      "version": "3.10.9"
    }
  },
  "nbformat": 4,
  "nbformat_minor": 0
}
