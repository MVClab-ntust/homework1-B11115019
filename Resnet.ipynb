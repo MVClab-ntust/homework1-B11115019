{
  "cells": [
    {
      "cell_type": "code",
      "execution_count": 1,
      "metadata": {
        "id": "hsn4s-uGCmAw"
      },
      "outputs": [],
      "source": [
        "import torch\n",
        "import torchvision\n",
        "import torchvision.transforms as transforms\n",
        "import torch.nn as nn\n",
        "import torch.nn.functional as F\n",
        "import torch.optim as optim\n",
        "\n",
        "# 資料預處理\n",
        "transform = transforms.Compose(\n",
        "    [transforms.ToTensor(),\n",
        "     transforms.Normalize((0.5071, 0.4867, 0.4408), (0.2675, 0.2565, 0.2761))])"
      ]
    },
    {
      "cell_type": "code",
      "execution_count": 2,
      "metadata": {
        "colab": {
          "base_uri": "https://localhost:8080/"
        },
        "id": "QBBQg_hzIibj",
        "outputId": "6fd47cde-3391-4c50-cb0e-b3edc92f60e9"
      },
      "outputs": [
        {
          "name": "stdout",
          "output_type": "stream",
          "text": [
            "Downloading https://www.cs.toronto.edu/~kriz/cifar-100-python.tar.gz to ./data\\cifar-100-python.tar.gz\n"
          ]
        },
        {
          "name": "stderr",
          "output_type": "stream",
          "text": [
            "100%|██████████| 169001437/169001437 [00:19<00:00, 8791426.76it/s] \n"
          ]
        },
        {
          "name": "stdout",
          "output_type": "stream",
          "text": [
            "Extracting ./data\\cifar-100-python.tar.gz to ./data\n",
            "Files already downloaded and verified\n"
          ]
        }
      ],
      "source": [
        "# 分割training和valid的資料\n",
        "train_dataset, valid_dataset = torch.utils.data.random_split(\n",
        "    torchvision.datasets.CIFAR100(root=\"./data\", train=True, download=True, transform=transform)\n",
        "    , lengths=[40000, 10000])\n",
        "\n",
        "#拿取load的資料\n",
        "trainloader = torch.utils.data.DataLoader(train_dataset, batch_size=64, shuffle=True, num_workers=2)\n",
        "vaildloader = torch.utils.data.DataLoader(valid_dataset, batch_size=64, shuffle=True, num_workers=2)\n",
        "test_dataset = torchvision.datasets.CIFAR100(root=\"./data\", train=False, download=True, transform=transform)\n",
        "testloader = torch.utils.data.DataLoader(test_dataset, batch_size=64, shuffle=True, num_workers=2)\n",
        "\n",
        "classes = ['apple', 'aquarium_fish', 'baby', 'bear', 'beaver', 'bed', 'bee', 'beetle', 'bicycle', 'bottle', 'bowl', 'boy', 'bridge', 'bus', 'butterfly', 'camel', 'can', 'castle', 'caterpillar', 'cattle', 'chair', 'chimpanzee', 'clock', 'cloud', 'cockroach', 'couch', 'crab', 'crocodile', 'cup', 'dinosaur', 'dolphin', 'elephant', 'flatfish', 'forest', 'fox', 'girl', 'hamster', 'house', 'kangaroo', 'keyboard', 'lamp', 'lawn_mower', 'leopard', 'lion', 'lizard', 'lobster', 'man', 'maple_tree', 'motorcycle', 'mountain', 'mouse', 'mushroom', 'oak_tree', 'orange', 'orchid', 'otter', 'palm_tree', 'pear', 'pickup_truck', 'pine_tree', 'plain', 'plate', 'poppy', 'porcupine', 'possum', 'rabbit', 'raccoon', 'ray', 'road', 'rocket', 'rose', 'sea', 'seal', 'shark', 'shrew', 'skunk', 'skyscraper', 'snail', 'snake', 'spider', 'squirrel', 'streetcar', 'sunflower', 'sweet_pepper', 'table', 'tank', 'telephone', 'television', 'tiger', 'tractor', 'train', 'trout', 'tulip', 'turtle', 'wardrobe', 'whale', 'willow_tree', 'wolf', 'woman', 'worm']"
      ]
    },
    {
      "cell_type": "code",
      "execution_count": 3,
      "metadata": {
        "id": "8AGWmPiwOA75"
      },
      "outputs": [],
      "source": [
        "# 建構block\n",
        "class ResidualBlock(nn.Module):\n",
        "  def __init__(self, in_channel, out_channel, strides=1):\n",
        "    super(ResidualBlock, self).__init__()\n",
        "    self.conv1 = nn.Conv2d(in_channel, out_channel, kernel_size=3, stride=strides, padding=1)\n",
        "    self.bn1 = nn.BatchNorm2d(out_channel)\n",
        "    self.relu = nn.ReLU(inplace=True)\n",
        "    self.conv2 = nn.Conv2d(out_channel, out_channel, kernel_size=3, stride=1, padding=1)\n",
        "    self.bn2 = nn.BatchNorm2d(out_channel)\n",
        "\n",
        "    self.downsample = None\n",
        "    if strides != 1 or in_channel != out_channel:\n",
        "        self.downsample = nn.Sequential(\n",
        "        nn.Conv2d(in_channel, out_channel, kernel_size=1, stride=strides),\n",
        "        nn.BatchNorm2d(out_channel)\n",
        "    )\n",
        "\n",
        "  def forward(self, x):\n",
        "    identity = x\n",
        "\n",
        "    out = self.conv1(x)\n",
        "    out = self.bn1(out)\n",
        "    out = self.relu(out)\n",
        "    out = self.conv2(out)\n",
        "    out = self.bn2(out)\n",
        "\n",
        "    if self.downsample is not None:\n",
        "      identity = self.downsample(x)\n",
        "\n",
        "    out += identity\n",
        "    out = self.relu(out)\n",
        "\n",
        "    return out\n",
        "\n",
        "#建構Resnet\n",
        "class ResNet18(nn.Module):\n",
        "  def __init__(self, ResidualBlock, num_class=100):\n",
        "    super(ResNet18, self).__init__()\n",
        "\n",
        "    self.channel = 64\n",
        "    self.conv1 = nn.Sequential(nn.Conv2d(3, 64, kernel_size=7, stride=2, padding=3),\n",
        "                               nn.BatchNorm2d(64),\n",
        "                               nn.ReLU(),\n",
        "                               nn.MaxPool2d(kernel_size=3, stride=2))\n",
        "\n",
        "    self.layer1 = self.make_layer(ResidualBlock, 64, 2, 1)\n",
        "    self.layer2 = self.make_layer(ResidualBlock, 128, 2, 2)\n",
        "    self.layer3 = self.make_layer(ResidualBlock, 256, 2, 2)\n",
        "    self.layer4 = self.make_layer(ResidualBlock, 512, 2, 2)\n",
        "    self.avgpool = nn.AdaptiveAvgPool2d((1,1))\n",
        "    self.fcl = nn.Linear(512, num_class)\n",
        "\n",
        "\n",
        "  def make_layer(self, block, outchannel, num_block, stride):\n",
        "    strides = [stride] + [1] * (num_block - 1)\n",
        "    layer = []\n",
        "\n",
        "    for i in strides:\n",
        "      layer.append(block(self.channel, outchannel, i))\n",
        "      self.channel = outchannel\n",
        "\n",
        "    return nn.Sequential(*layer)\n",
        "\n",
        "  def forward(self, x):\n",
        "    out = self.conv1(x)\n",
        "    out = self.layer1(out)\n",
        "    out = self.layer2(out)\n",
        "    out = self.layer3(out)\n",
        "    out = self.layer4(out)\n",
        "    out = self.avgpool(out)\n",
        "\n",
        "    out = torch.flatten(out, 1)\n",
        "    out = self.fcl(out)   \n",
        "\n",
        "    return out"
      ]
    },
    {
      "cell_type": "code",
      "execution_count": 4,
      "metadata": {
        "colab": {
          "base_uri": "https://localhost:8080/"
        },
        "id": "WREsYVmiKAsG",
        "outputId": "58ea08af-a48f-4323-cfe5-d307f06b1828"
      },
      "outputs": [
        {
          "data": {
            "text/plain": [
              "ResNet18(\n",
              "  (conv1): Sequential(\n",
              "    (0): Conv2d(3, 64, kernel_size=(7, 7), stride=(2, 2), padding=(3, 3))\n",
              "    (1): BatchNorm2d(64, eps=1e-05, momentum=0.1, affine=True, track_running_stats=True)\n",
              "    (2): ReLU()\n",
              "    (3): MaxPool2d(kernel_size=3, stride=2, padding=0, dilation=1, ceil_mode=False)\n",
              "  )\n",
              "  (layer1): Sequential(\n",
              "    (0): ResidualBlock(\n",
              "      (conv1): Conv2d(64, 64, kernel_size=(3, 3), stride=(1, 1), padding=(1, 1))\n",
              "      (bn1): BatchNorm2d(64, eps=1e-05, momentum=0.1, affine=True, track_running_stats=True)\n",
              "      (relu): ReLU(inplace=True)\n",
              "      (conv2): Conv2d(64, 64, kernel_size=(3, 3), stride=(1, 1), padding=(1, 1))\n",
              "      (bn2): BatchNorm2d(64, eps=1e-05, momentum=0.1, affine=True, track_running_stats=True)\n",
              "    )\n",
              "    (1): ResidualBlock(\n",
              "      (conv1): Conv2d(64, 64, kernel_size=(3, 3), stride=(1, 1), padding=(1, 1))\n",
              "      (bn1): BatchNorm2d(64, eps=1e-05, momentum=0.1, affine=True, track_running_stats=True)\n",
              "      (relu): ReLU(inplace=True)\n",
              "      (conv2): Conv2d(64, 64, kernel_size=(3, 3), stride=(1, 1), padding=(1, 1))\n",
              "      (bn2): BatchNorm2d(64, eps=1e-05, momentum=0.1, affine=True, track_running_stats=True)\n",
              "    )\n",
              "  )\n",
              "  (layer2): Sequential(\n",
              "    (0): ResidualBlock(\n",
              "      (conv1): Conv2d(64, 128, kernel_size=(3, 3), stride=(2, 2), padding=(1, 1))\n",
              "      (bn1): BatchNorm2d(128, eps=1e-05, momentum=0.1, affine=True, track_running_stats=True)\n",
              "      (relu): ReLU(inplace=True)\n",
              "      (conv2): Conv2d(128, 128, kernel_size=(3, 3), stride=(1, 1), padding=(1, 1))\n",
              "      (bn2): BatchNorm2d(128, eps=1e-05, momentum=0.1, affine=True, track_running_stats=True)\n",
              "      (downsample): Sequential(\n",
              "        (0): Conv2d(64, 128, kernel_size=(1, 1), stride=(2, 2))\n",
              "        (1): BatchNorm2d(128, eps=1e-05, momentum=0.1, affine=True, track_running_stats=True)\n",
              "      )\n",
              "    )\n",
              "    (1): ResidualBlock(\n",
              "      (conv1): Conv2d(128, 128, kernel_size=(3, 3), stride=(1, 1), padding=(1, 1))\n",
              "      (bn1): BatchNorm2d(128, eps=1e-05, momentum=0.1, affine=True, track_running_stats=True)\n",
              "      (relu): ReLU(inplace=True)\n",
              "      (conv2): Conv2d(128, 128, kernel_size=(3, 3), stride=(1, 1), padding=(1, 1))\n",
              "      (bn2): BatchNorm2d(128, eps=1e-05, momentum=0.1, affine=True, track_running_stats=True)\n",
              "    )\n",
              "  )\n",
              "  (layer3): Sequential(\n",
              "    (0): ResidualBlock(\n",
              "      (conv1): Conv2d(128, 256, kernel_size=(3, 3), stride=(2, 2), padding=(1, 1))\n",
              "      (bn1): BatchNorm2d(256, eps=1e-05, momentum=0.1, affine=True, track_running_stats=True)\n",
              "      (relu): ReLU(inplace=True)\n",
              "      (conv2): Conv2d(256, 256, kernel_size=(3, 3), stride=(1, 1), padding=(1, 1))\n",
              "      (bn2): BatchNorm2d(256, eps=1e-05, momentum=0.1, affine=True, track_running_stats=True)\n",
              "      (downsample): Sequential(\n",
              "        (0): Conv2d(128, 256, kernel_size=(1, 1), stride=(2, 2))\n",
              "        (1): BatchNorm2d(256, eps=1e-05, momentum=0.1, affine=True, track_running_stats=True)\n",
              "      )\n",
              "    )\n",
              "    (1): ResidualBlock(\n",
              "      (conv1): Conv2d(256, 256, kernel_size=(3, 3), stride=(1, 1), padding=(1, 1))\n",
              "      (bn1): BatchNorm2d(256, eps=1e-05, momentum=0.1, affine=True, track_running_stats=True)\n",
              "      (relu): ReLU(inplace=True)\n",
              "      (conv2): Conv2d(256, 256, kernel_size=(3, 3), stride=(1, 1), padding=(1, 1))\n",
              "      (bn2): BatchNorm2d(256, eps=1e-05, momentum=0.1, affine=True, track_running_stats=True)\n",
              "    )\n",
              "  )\n",
              "  (layer4): Sequential(\n",
              "    (0): ResidualBlock(\n",
              "      (conv1): Conv2d(256, 512, kernel_size=(3, 3), stride=(2, 2), padding=(1, 1))\n",
              "      (bn1): BatchNorm2d(512, eps=1e-05, momentum=0.1, affine=True, track_running_stats=True)\n",
              "      (relu): ReLU(inplace=True)\n",
              "      (conv2): Conv2d(512, 512, kernel_size=(3, 3), stride=(1, 1), padding=(1, 1))\n",
              "      (bn2): BatchNorm2d(512, eps=1e-05, momentum=0.1, affine=True, track_running_stats=True)\n",
              "      (downsample): Sequential(\n",
              "        (0): Conv2d(256, 512, kernel_size=(1, 1), stride=(2, 2))\n",
              "        (1): BatchNorm2d(512, eps=1e-05, momentum=0.1, affine=True, track_running_stats=True)\n",
              "      )\n",
              "    )\n",
              "    (1): ResidualBlock(\n",
              "      (conv1): Conv2d(512, 512, kernel_size=(3, 3), stride=(1, 1), padding=(1, 1))\n",
              "      (bn1): BatchNorm2d(512, eps=1e-05, momentum=0.1, affine=True, track_running_stats=True)\n",
              "      (relu): ReLU(inplace=True)\n",
              "      (conv2): Conv2d(512, 512, kernel_size=(3, 3), stride=(1, 1), padding=(1, 1))\n",
              "      (bn2): BatchNorm2d(512, eps=1e-05, momentum=0.1, affine=True, track_running_stats=True)\n",
              "    )\n",
              "  )\n",
              "  (avgpool): AdaptiveAvgPool2d(output_size=(1, 1))\n",
              "  (fcl): Linear(in_features=512, out_features=100, bias=True)\n",
              ")"
            ]
          },
          "execution_count": 4,
          "metadata": {},
          "output_type": "execute_result"
        }
      ],
      "source": [
        "# 建立model\n",
        "model = ResNet18(ResidualBlock)\n",
        "device = torch.device(\"cuda:0\" if torch.cuda.is_available() else \"cpu\")\n",
        "model.to(device)"
      ]
    },
    {
      "cell_type": "code",
      "execution_count": 5,
      "metadata": {
        "colab": {
          "base_uri": "https://localhost:8080/",
          "height": 408
        },
        "id": "0Lvehig4bLcG",
        "outputId": "f16a60a5-bec8-4c6c-d5da-b27305c389b3"
      },
      "outputs": [
        {
          "data": {
            "application/vnd.jupyter.widget-view+json": {
              "model_id": "de272c0e6ade48a2b927f1099e92c6ad",
              "version_major": 2,
              "version_minor": 0
            },
            "text/plain": [
              "Training:   0%|          | 0/625 [00:00<?, ?it/s]"
            ]
          },
          "metadata": {},
          "output_type": "display_data"
        },
        {
          "data": {
            "application/vnd.jupyter.widget-view+json": {
              "model_id": "bcd72611d37e4230aa51b62e88782ba0",
              "version_major": 2,
              "version_minor": 0
            },
            "text/plain": [
              "Training:   0%|          | 0/625 [00:00<?, ?it/s]"
            ]
          },
          "metadata": {},
          "output_type": "display_data"
        },
        {
          "data": {
            "application/vnd.jupyter.widget-view+json": {
              "model_id": "7df670ba0e0b40da8d1dcd2e0d59fa28",
              "version_major": 2,
              "version_minor": 0
            },
            "text/plain": [
              "Training:   0%|          | 0/625 [00:00<?, ?it/s]"
            ]
          },
          "metadata": {},
          "output_type": "display_data"
        },
        {
          "data": {
            "application/vnd.jupyter.widget-view+json": {
              "model_id": "f39dece605d2459fbdf2979f1d829306",
              "version_major": 2,
              "version_minor": 0
            },
            "text/plain": [
              "Training:   0%|          | 0/625 [00:00<?, ?it/s]"
            ]
          },
          "metadata": {},
          "output_type": "display_data"
        },
        {
          "data": {
            "application/vnd.jupyter.widget-view+json": {
              "model_id": "459f19ed7a5b4e18a59731dff6b0d7a4",
              "version_major": 2,
              "version_minor": 0
            },
            "text/plain": [
              "Training:   0%|          | 0/625 [00:00<?, ?it/s]"
            ]
          },
          "metadata": {},
          "output_type": "display_data"
        },
        {
          "data": {
            "application/vnd.jupyter.widget-view+json": {
              "model_id": "b827225e9996497bba407d53ab402692",
              "version_major": 2,
              "version_minor": 0
            },
            "text/plain": [
              "Training:   0%|          | 0/625 [00:00<?, ?it/s]"
            ]
          },
          "metadata": {},
          "output_type": "display_data"
        },
        {
          "data": {
            "application/vnd.jupyter.widget-view+json": {
              "model_id": "4141bd8a156a4f4590e8c6d39f136962",
              "version_major": 2,
              "version_minor": 0
            },
            "text/plain": [
              "Training:   0%|          | 0/625 [00:00<?, ?it/s]"
            ]
          },
          "metadata": {},
          "output_type": "display_data"
        },
        {
          "data": {
            "application/vnd.jupyter.widget-view+json": {
              "model_id": "eb1eba00ef1043fd91441be729e7e5e8",
              "version_major": 2,
              "version_minor": 0
            },
            "text/plain": [
              "Training:   0%|          | 0/625 [00:00<?, ?it/s]"
            ]
          },
          "metadata": {},
          "output_type": "display_data"
        },
        {
          "data": {
            "application/vnd.jupyter.widget-view+json": {
              "model_id": "2cb43847a0934edfa0e25a075dfbd854",
              "version_major": 2,
              "version_minor": 0
            },
            "text/plain": [
              "Training:   0%|          | 0/625 [00:00<?, ?it/s]"
            ]
          },
          "metadata": {},
          "output_type": "display_data"
        },
        {
          "data": {
            "application/vnd.jupyter.widget-view+json": {
              "model_id": "b3c2f8ec00bd4e8093d4aa8058ca7329",
              "version_major": 2,
              "version_minor": 0
            },
            "text/plain": [
              "Training:   0%|          | 0/625 [00:00<?, ?it/s]"
            ]
          },
          "metadata": {},
          "output_type": "display_data"
        },
        {
          "name": "stdout",
          "output_type": "stream",
          "text": [
            "Finished training\n"
          ]
        }
      ],
      "source": [
        "criterion = nn.CrossEntropyLoss()\n",
        "optimizer = optim.Adam(model.parameters(), lr=0.001)\n",
        "\n",
        "from tqdm.notebook import tqdm\n",
        "\n",
        "# 定義訓練函數\n",
        "# def train(model, trainloader, vaildloader, criterion, optimizer, new_epoch=10):\n",
        "for epoch in range(10):\n",
        "  model.train()\n",
        "  running_loss = 0.0\n",
        "  progress_bar = tqdm(enumerate(trainloader, 0), total=len(trainloader), desc=\"Training\")\n",
        "\n",
        "  for inputs, labels in trainloader:\n",
        "    inputs, labels = inputs.to(device), labels.to(device)\n",
        "    \n",
        "    optimizer.zero_grad()\n",
        "    outputs = model(inputs)\n",
        "    loss = criterion(outputs, labels)\n",
        "    loss.backward()\n",
        "    optimizer.step()\n",
        "\n",
        "    running_loss += loss.item()\n",
        "    progress_bar.update(1)\n",
        "    progress_bar.set_description(f\"Epoch{epoch + 1}, Loss: {running_loss / len(trainloader):.4f}\")\n",
        "\n",
        "#vaild data\n",
        "model.eval()\n",
        "with torch.no_grad():\n",
        "  correct = 0\n",
        "  total = 0\n",
        "  for inputs, labels in vaildloader:\n",
        "    inputs, labels = inputs.to(device), labels.to(device)\n",
        "    outputs = model(inputs)\n",
        "    _, predicted = torch.max(outputs, 1)\n",
        "    total += labels.size(0)\n",
        "    correct = (predicted == labels).sum().item()\n",
        "print(\"Finished training\")"
      ]
    },
    {
      "cell_type": "code",
      "execution_count": 6,
      "metadata": {
        "id": "xa9-4N0yn8Ht"
      },
      "outputs": [
        {
          "name": "stdout",
          "output_type": "stream",
          "text": [
            "Accuracy of the network on CIFAR100: 42.47%\n",
            "\n",
            "-------------------------------------------\n",
            "Accuracy of apple : 69.0%\n",
            "Accuracy of aquarium_fish : 47.0%\n",
            "Accuracy of baby : 16.0%\n",
            "Accuracy of bear : 13.0%\n",
            "Accuracy of beaver : 35.0%\n",
            "Accuracy of bed : 32.0%\n",
            "Accuracy of bee : 46.0%\n",
            "Accuracy of beetle : 58.0%\n",
            "Accuracy of bicycle : 55.0%\n",
            "Accuracy of bottle : 60.0%\n",
            "Accuracy of bowl : 35.0%\n",
            "Accuracy of boy : 33.0%\n",
            "Accuracy of bridge : 40.0%\n",
            "Accuracy of bus : 38.0%\n",
            "Accuracy of butterfly : 30.0%\n",
            "Accuracy of camel : 39.0%\n",
            "Accuracy of can : 47.0%\n",
            "Accuracy of castle : 67.0%\n",
            "Accuracy of caterpillar : 65.0%\n",
            "Accuracy of cattle : 41.0%\n",
            "Accuracy of chair : 63.0%\n",
            "Accuracy of chimpanzee : 65.0%\n",
            "Accuracy of clock : 44.0%\n",
            "Accuracy of cloud : 70.0%\n",
            "Accuracy of cockroach : 57.0%\n",
            "Accuracy of couch : 41.0%\n",
            "Accuracy of crab : 40.0%\n",
            "Accuracy of crocodile : 24.0%\n",
            "Accuracy of cup : 65.0%\n",
            "Accuracy of dinosaur : 39.0%\n",
            "Accuracy of dolphin : 32.0%\n",
            "Accuracy of elephant : 29.0%\n",
            "Accuracy of flatfish : 40.0%\n",
            "Accuracy of forest : 34.0%\n",
            "Accuracy of fox : 45.0%\n",
            "Accuracy of girl : 38.0%\n",
            "Accuracy of hamster : 34.0%\n",
            "Accuracy of house : 34.0%\n",
            "Accuracy of kangaroo : 21.0%\n",
            "Accuracy of keyboard : 55.0%\n",
            "Accuracy of lamp : 41.0%\n",
            "Accuracy of lawn_mower : 67.0%\n",
            "Accuracy of leopard : 37.0%\n",
            "Accuracy of lion : 37.0%\n",
            "Accuracy of lizard : 25.0%\n",
            "Accuracy of lobster : 14.0%\n",
            "Accuracy of man : 17.0%\n",
            "Accuracy of maple_tree : 56.0%\n",
            "Accuracy of motorcycle : 71.0%\n",
            "Accuracy of mountain : 41.0%\n",
            "Accuracy of mouse : 25.0%\n",
            "Accuracy of mushroom : 36.0%\n",
            "Accuracy of oak_tree : 35.0%\n",
            "Accuracy of orange : 66.0%\n",
            "Accuracy of orchid : 47.0%\n",
            "Accuracy of otter : 13.0%\n",
            "Accuracy of palm_tree : 56.0%\n",
            "Accuracy of pear : 47.0%\n",
            "Accuracy of pickup_truck : 49.0%\n",
            "Accuracy of pine_tree : 30.0%\n",
            "Accuracy of plain : 77.0%\n",
            "Accuracy of plate : 47.0%\n",
            "Accuracy of poppy : 42.0%\n",
            "Accuracy of porcupine : 46.0%\n",
            "Accuracy of possum : 25.0%\n",
            "Accuracy of rabbit : 25.0%\n",
            "Accuracy of raccoon : 33.0%\n",
            "Accuracy of ray : 42.0%\n",
            "Accuracy of road : 70.0%\n",
            "Accuracy of rocket : 53.0%\n",
            "Accuracy of rose : 18.0%\n",
            "Accuracy of sea : 46.0%\n",
            "Accuracy of seal : 18.0%\n",
            "Accuracy of shark : 17.0%\n",
            "Accuracy of shrew : 29.0%\n",
            "Accuracy of skunk : 62.0%\n",
            "Accuracy of skyscraper : 70.0%\n",
            "Accuracy of snail : 27.0%\n",
            "Accuracy of snake : 27.0%\n",
            "Accuracy of spider : 40.0%\n",
            "Accuracy of squirrel : 21.0%\n",
            "Accuracy of streetcar : 49.0%\n",
            "Accuracy of sunflower : 67.0%\n",
            "Accuracy of sweet_pepper : 43.0%\n",
            "Accuracy of table : 33.0%\n",
            "Accuracy of tank : 69.0%\n",
            "Accuracy of telephone : 50.0%\n",
            "Accuracy of television : 55.0%\n",
            "Accuracy of tiger : 41.0%\n",
            "Accuracy of tractor : 48.0%\n",
            "Accuracy of train : 40.0%\n",
            "Accuracy of trout : 45.0%\n",
            "Accuracy of tulip : 30.0%\n",
            "Accuracy of turtle : 22.0%\n",
            "Accuracy of wardrobe : 85.0%\n",
            "Accuracy of whale : 50.0%\n",
            "Accuracy of willow_tree : 41.0%\n",
            "Accuracy of wolf : 39.0%\n",
            "Accuracy of woman : 21.0%\n",
            "Accuracy of worm : 38.0%\n"
          ]
        }
      ],
      "source": [
        "# 預測\n",
        "correct = 0\n",
        "total = 0\n",
        "with torch.no_grad():\n",
        "  for data in testloader:\n",
        "    inputs, labels = data[0].to(device), data[1].to(device)\n",
        "    outputs = model(inputs)\n",
        "    _, predicted = torch.max(outputs, 1)\n",
        "    correct += (predicted == labels).sum().item()\n",
        "    total += labels.size(0)\n",
        "\n",
        "print(f\"Accuracy of the network on CIFAR100: {100 * correct / total}%\")\n",
        "print()\n",
        "\n",
        "class_correct = list(0. for i in range(100))\n",
        "class_total = list(0. for i in range(100))\n",
        "\n",
        "with torch.no_grad():\n",
        "  for data in testloader:\n",
        "    inputs, labels = data[0].to(device), data[1].to(device)\n",
        "    outputs = model(inputs)\n",
        "    _, predicted = torch.max(outputs, 1)\n",
        "    correct = (predicted == labels).squeeze()\n",
        "    \n",
        "    for i in range(len(labels)):\n",
        "      label = labels[i]\n",
        "      class_correct[label] += correct[i].item()\n",
        "      class_total[label] += 1\n",
        "\n",
        "print(\"-------------------------------------------\")\n",
        "for i in range(100):\n",
        "  print(f\"Accuracy of {classes[i]} : {100 * class_correct[i]/class_total[i]}%\")\n"
      ]
    }
  ],
  "metadata": {
    "colab": {
      "provenance": []
    },
    "kernelspec": {
      "display_name": "Python 3",
      "name": "python3"
    },
    "language_info": {
      "codemirror_mode": {
        "name": "ipython",
        "version": 3
      },
      "file_extension": ".py",
      "mimetype": "text/x-python",
      "name": "python",
      "nbconvert_exporter": "python",
      "pygments_lexer": "ipython3",
      "version": "3.10.9"
    }
  },
  "nbformat": 4,
  "nbformat_minor": 0
}
